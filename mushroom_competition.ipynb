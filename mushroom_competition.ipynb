{
 "cells": [
  {
   "attachments": {},
   "cell_type": "markdown",
   "metadata": {},
   "source": [
    "# 1. loading Data"
   ]
  },
  {
   "cell_type": "code",
   "execution_count": 38,
   "metadata": {},
   "outputs": [],
   "source": [
    "import pandas as pd\n",
    "\n",
    "url = './data/train.csv'\n",
    "mushroom_train = pd.read_csv(url)\n"
   ]
  },
  {
   "cell_type": "code",
   "execution_count": 39,
   "metadata": {},
   "outputs": [
    {
     "data": {
      "text/html": [
       "<div>\n",
       "<style scoped>\n",
       "    .dataframe tbody tr th:only-of-type {\n",
       "        vertical-align: middle;\n",
       "    }\n",
       "\n",
       "    .dataframe tbody tr th {\n",
       "        vertical-align: top;\n",
       "    }\n",
       "\n",
       "    .dataframe thead th {\n",
       "        text-align: right;\n",
       "    }\n",
       "</style>\n",
       "<table border=\"1\" class=\"dataframe\">\n",
       "  <thead>\n",
       "    <tr style=\"text-align: right;\">\n",
       "      <th></th>\n",
       "      <th>cap.shape</th>\n",
       "      <th>cap.color</th>\n",
       "      <th>bruises</th>\n",
       "      <th>stalk.color.above.ring</th>\n",
       "      <th>stalk.color.below.ring</th>\n",
       "      <th>population</th>\n",
       "      <th>Id</th>\n",
       "      <th>poisonous</th>\n",
       "    </tr>\n",
       "  </thead>\n",
       "  <tbody>\n",
       "    <tr>\n",
       "      <th>0</th>\n",
       "      <td>k</td>\n",
       "      <td>e</td>\n",
       "      <td>False</td>\n",
       "      <td>w</td>\n",
       "      <td>w</td>\n",
       "      <td>v</td>\n",
       "      <td>6573</td>\n",
       "      <td>1</td>\n",
       "    </tr>\n",
       "    <tr>\n",
       "      <th>1</th>\n",
       "      <td>f</td>\n",
       "      <td>e</td>\n",
       "      <td>True</td>\n",
       "      <td>p</td>\n",
       "      <td>w</td>\n",
       "      <td>y</td>\n",
       "      <td>4426</td>\n",
       "      <td>0</td>\n",
       "    </tr>\n",
       "    <tr>\n",
       "      <th>2</th>\n",
       "      <td>b</td>\n",
       "      <td>w</td>\n",
       "      <td>False</td>\n",
       "      <td>w</td>\n",
       "      <td>w</td>\n",
       "      <td>s</td>\n",
       "      <td>7018</td>\n",
       "      <td>0</td>\n",
       "    </tr>\n",
       "    <tr>\n",
       "      <th>3</th>\n",
       "      <td>k</td>\n",
       "      <td>g</td>\n",
       "      <td>False</td>\n",
       "      <td>w</td>\n",
       "      <td>w</td>\n",
       "      <td>n</td>\n",
       "      <td>5789</td>\n",
       "      <td>0</td>\n",
       "    </tr>\n",
       "    <tr>\n",
       "      <th>4</th>\n",
       "      <td>f</td>\n",
       "      <td>n</td>\n",
       "      <td>True</td>\n",
       "      <td>p</td>\n",
       "      <td>g</td>\n",
       "      <td>v</td>\n",
       "      <td>6187</td>\n",
       "      <td>0</td>\n",
       "    </tr>\n",
       "    <tr>\n",
       "      <th>...</th>\n",
       "      <td>...</td>\n",
       "      <td>...</td>\n",
       "      <td>...</td>\n",
       "      <td>...</td>\n",
       "      <td>...</td>\n",
       "      <td>...</td>\n",
       "      <td>...</td>\n",
       "      <td>...</td>\n",
       "    </tr>\n",
       "    <tr>\n",
       "      <th>6494</th>\n",
       "      <td>f</td>\n",
       "      <td>g</td>\n",
       "      <td>False</td>\n",
       "      <td>b</td>\n",
       "      <td>b</td>\n",
       "      <td>v</td>\n",
       "      <td>7002</td>\n",
       "      <td>1</td>\n",
       "    </tr>\n",
       "    <tr>\n",
       "      <th>6495</th>\n",
       "      <td>k</td>\n",
       "      <td>e</td>\n",
       "      <td>False</td>\n",
       "      <td>p</td>\n",
       "      <td>p</td>\n",
       "      <td>v</td>\n",
       "      <td>7323</td>\n",
       "      <td>1</td>\n",
       "    </tr>\n",
       "    <tr>\n",
       "      <th>6496</th>\n",
       "      <td>f</td>\n",
       "      <td>g</td>\n",
       "      <td>False</td>\n",
       "      <td>n</td>\n",
       "      <td>b</td>\n",
       "      <td>y</td>\n",
       "      <td>6206</td>\n",
       "      <td>1</td>\n",
       "    </tr>\n",
       "    <tr>\n",
       "      <th>6497</th>\n",
       "      <td>f</td>\n",
       "      <td>n</td>\n",
       "      <td>True</td>\n",
       "      <td>w</td>\n",
       "      <td>w</td>\n",
       "      <td>s</td>\n",
       "      <td>4658</td>\n",
       "      <td>0</td>\n",
       "    </tr>\n",
       "    <tr>\n",
       "      <th>6498</th>\n",
       "      <td>f</td>\n",
       "      <td>e</td>\n",
       "      <td>False</td>\n",
       "      <td>p</td>\n",
       "      <td>p</td>\n",
       "      <td>v</td>\n",
       "      <td>373</td>\n",
       "      <td>1</td>\n",
       "    </tr>\n",
       "  </tbody>\n",
       "</table>\n",
       "<p>6499 rows × 8 columns</p>\n",
       "</div>"
      ],
      "text/plain": [
       "     cap.shape cap.color  bruises stalk.color.above.ring  \\\n",
       "0            k         e    False                      w   \n",
       "1            f         e     True                      p   \n",
       "2            b         w    False                      w   \n",
       "3            k         g    False                      w   \n",
       "4            f         n     True                      p   \n",
       "...        ...       ...      ...                    ...   \n",
       "6494         f         g    False                      b   \n",
       "6495         k         e    False                      p   \n",
       "6496         f         g    False                      n   \n",
       "6497         f         n     True                      w   \n",
       "6498         f         e    False                      p   \n",
       "\n",
       "     stalk.color.below.ring population    Id  poisonous  \n",
       "0                         w          v  6573          1  \n",
       "1                         w          y  4426          0  \n",
       "2                         w          s  7018          0  \n",
       "3                         w          n  5789          0  \n",
       "4                         g          v  6187          0  \n",
       "...                     ...        ...   ...        ...  \n",
       "6494                      b          v  7002          1  \n",
       "6495                      p          v  7323          1  \n",
       "6496                      b          y  6206          1  \n",
       "6497                      w          s  4658          0  \n",
       "6498                      p          v   373          1  \n",
       "\n",
       "[6499 rows x 8 columns]"
      ]
     },
     "execution_count": 39,
     "metadata": {},
     "output_type": "execute_result"
    }
   ],
   "source": [
    "mushroom_train\n"
   ]
  },
  {
   "attachments": {},
   "cell_type": "markdown",
   "metadata": {},
   "source": [
    "### 1.1 prepare data, check for null values, Ddatatypes etc."
   ]
  },
  {
   "cell_type": "code",
   "execution_count": 27,
   "metadata": {},
   "outputs": [
    {
     "name": "stdout",
     "output_type": "stream",
     "text": [
      "<class 'pandas.core.frame.DataFrame'>\n",
      "RangeIndex: 6499 entries, 0 to 6498\n",
      "Data columns (total 8 columns):\n",
      " #   Column                  Non-Null Count  Dtype \n",
      "---  ------                  --------------  ----- \n",
      " 0   cap.shape               6499 non-null   object\n",
      " 1   cap.color               6499 non-null   object\n",
      " 2   bruises                 6499 non-null   bool  \n",
      " 3   stalk.color.above.ring  6499 non-null   object\n",
      " 4   stalk.color.below.ring  6499 non-null   object\n",
      " 5   population              6499 non-null   object\n",
      " 6   Id                      6499 non-null   int64 \n",
      " 7   poisonous               6499 non-null   int64 \n",
      "dtypes: bool(1), int64(2), object(5)\n",
      "memory usage: 361.9+ KB\n"
     ]
    }
   ],
   "source": [
    "mushroom_train.info()\n"
   ]
  },
  {
   "cell_type": "markdown",
   "metadata": {},
   "source": [
    "change bruises to integer later"
   ]
  },
  {
   "cell_type": "markdown",
   "metadata": {},
   "source": [
    "# 2. testing different algorithms"
   ]
  },
  {
   "cell_type": "markdown",
   "metadata": {},
   "source": [
    "### 2.1 ROC curve"
   ]
  },
  {
   "cell_type": "code",
   "execution_count": 28,
   "metadata": {},
   "outputs": [
    {
     "data": {
      "image/png": "[encoded data removed]",
      "text/plain": [
       "<Figure size 640x480 with 1 Axes>"
      ]
     },
     "metadata": {},
     "output_type": "display_data"
    }
   ],
   "source": [
    "import pandas as pd\n",
    "from sklearn.model_selection import train_test_split\n",
    "from sklearn.metrics import roc_curve, roc_auc_score\n",
    "from sklearn.tree import DecisionTreeClassifier\n",
    "from sklearn.ensemble import RandomForestClassifier\n",
    "from sklearn.linear_model import LogisticRegression\n",
    "import matplotlib.pyplot as plt\n",
    "\n",
    "# Assuming your target variable is named 'poisonous'\n",
    "X = mushroom_train.drop(['Id', 'poisonous'], axis=1)\n",
    "y = mushroom_train['poisonous']\n",
    "\n",
    "# Convert boolean column 'bruises' to integer (0s and 1s)\n",
    "X['bruises'] = X['bruises'].astype(int)\n",
    "\n",
    "# One-hot encode categorical columns\n",
    "X = pd.get_dummies(X)\n",
    "\n",
    "# Split the data into training and testing sets\n",
    "X_train, X_test, y_train, y_test = train_test_split(\n",
    "    X, y, test_size=0.2, random_state=123)\n",
    "\n",
    "# Decision Tree Classifier\n",
    "dtc = DecisionTreeClassifier()\n",
    "dtc.fit(X_train, y_train)\n",
    "dtc_pred_proba = dtc.predict_proba(X_test)[:, 1]\n",
    "dtc_auc = roc_auc_score(y_test, dtc_pred_proba)\n",
    "dtc_fpr, dtc_tpr, _ = roc_curve(y_test, dtc_pred_proba)\n",
    "\n",
    "# Logistic Regression\n",
    "logreg = LogisticRegression()\n",
    "logreg.fit(X_train, y_train)\n",
    "logreg_pred_proba = logreg.predict_proba(X_test)[:, 1]\n",
    "logreg_auc = roc_auc_score(y_test, logreg_pred_proba)\n",
    "logreg_fpr, logreg_tpr, _ = roc_curve(y_test, logreg_pred_proba)\n",
    "\n",
    "# Random Forest Classifier\n",
    "rfc = RandomForestClassifier()\n",
    "rfc.fit(X_train, y_train)\n",
    "rfc_pred_proba = rfc.predict_proba(X_test)[:, 1]\n",
    "rfc_auc = roc_auc_score(y_test, rfc_pred_proba)\n",
    "rfc_fpr, rfc_tpr, _ = roc_curve(y_test, rfc_pred_proba)\n",
    "\n",
    "# Plot ROC curves\n",
    "plt.plot(dtc_fpr, dtc_tpr,\n",
    "         label='Decision Tree Classifier (AUC = {:.2f})'.format(dtc_auc))\n",
    "plt.plot(logreg_fpr, logreg_tpr,\n",
    "         label='Logistic Regression (AUC = {:.2f})'.format(logreg_auc))\n",
    "plt.plot(rfc_fpr, rfc_tpr,\n",
    "         label='Random Forest Classifier (AUC = {:.2f})'.format(rfc_auc))\n",
    "plt.plot([0, 1], [0, 1], 'k--', label='Random')\n",
    "plt.xlabel('False Positive Rate')\n",
    "plt.ylabel('True Positive Rate')\n",
    "plt.title('ROC Curve')\n",
    "plt.legend(loc='lower right')\n",
    "plt.show()\n"
   ]
  },
  {
   "cell_type": "code",
   "execution_count": 29,
   "metadata": {},
   "outputs": [
    {
     "data": {
      "image/png": "[encoded data removed]",
      "text/plain": [
       "<Figure size 640x480 with 1 Axes>"
      ]
     },
     "metadata": {},
     "output_type": "display_data"
    }
   ],
   "source": [
    "# Plot ROC Decision tree because it was hidden under Random Forest Classifier\n",
    "plt.plot(dtc_fpr, dtc_tpr,\n",
    "         label='Decision Tree Classifier (AUC = {:.2f})'.format(dtc_auc))\n",
    "plt.plot([0, 1], [0, 1], 'k--', label='Random')\n",
    "plt.xlabel('False Positive Rate')\n",
    "plt.ylabel('True Positive Rate')\n",
    "plt.title('ROC Curve')\n",
    "plt.legend(loc='lower right')\n",
    "plt.show()\n"
   ]
  },
  {
   "cell_type": "markdown",
   "metadata": {},
   "source": [
    "### 2.2 get sensitivity and cross validation score"
   ]
  },
  {
   "cell_type": "code",
   "execution_count": 30,
   "metadata": {},
   "outputs": [
    {
     "name": "stdout",
     "output_type": "stream",
     "text": [
      "dtc_sensitivity: 0.9675425038639877\n",
      "logreg_sensitivity: 0.8979907264296755\n",
      "rfc_sensitivity: 0.9675425038639877\n",
      "dtc_specificity: 0.9509954058192955\n",
      "logreg_specificity: 0.8820826952526799\n",
      "rfc_specificity: 0.9509954058192955\n"
     ]
    },
    {
     "name": "stderr",
     "output_type": "stream",
     "text": [
      "/home/almuth/Documents/anaconda3/envs/pdenv/lib/python3.11/site-packages/sklearn/linear_model/_logistic.py:458: ConvergenceWarning: lbfgs failed to converge (status=1):\n",
      "STOP: TOTAL NO. of ITERATIONS REACHED LIMIT.\n",
      "\n",
      "Increase the number of iterations (max_iter) or scale the data as shown in:\n",
      "    https://scikit-learn.org/stable/modules/preprocessing.html\n",
      "Please also refer to the documentation for alternative solver options:\n",
      "    https://scikit-learn.org/stable/modules/linear_model.html#logistic-regression\n",
      "  n_iter_i = _check_optimize_result(\n",
      "/home/almuth/Documents/anaconda3/envs/pdenv/lib/python3.11/site-packages/sklearn/linear_model/_logistic.py:458: ConvergenceWarning: lbfgs failed to converge (status=1):\n",
      "STOP: TOTAL NO. of ITERATIONS REACHED LIMIT.\n",
      "\n",
      "Increase the number of iterations (max_iter) or scale the data as shown in:\n",
      "    https://scikit-learn.org/stable/modules/preprocessing.html\n",
      "Please also refer to the documentation for alternative solver options:\n",
      "    https://scikit-learn.org/stable/modules/linear_model.html#logistic-regression\n",
      "  n_iter_i = _check_optimize_result(\n"
     ]
    },
    {
     "name": "stdout",
     "output_type": "stream",
     "text": [
      "Decision Tree Classifier Cross-Validation Scores: [0.9929437  0.99470363 0.99750556 0.99378641 0.99505703]\n",
      "Logistic Regression Cross-Validation Scores: [0.95671474 0.95259323 0.96866672 0.952595   0.96116088]\n",
      "Random Forest Classifier Cross-Validation Scores: [0.99371352 0.99461599 0.99736106 0.99478489 0.99496095]\n"
     ]
    }
   ],
   "source": [
    "import pandas as pd\n",
    "from sklearn.model_selection import train_test_split, cross_val_score\n",
    "from sklearn.metrics import roc_curve, roc_auc_score, confusion_matrix\n",
    "from sklearn.tree import DecisionTreeClassifier\n",
    "from sklearn.ensemble import RandomForestClassifier\n",
    "from sklearn.linear_model import LogisticRegression\n",
    "import matplotlib.pyplot as plt\n",
    "\n",
    "# Assuming your target variable is named 'poisonous'\n",
    "X = mushroom_train.drop(['Id', 'poisonous'], axis=1)\n",
    "y = mushroom_train['poisonous']\n",
    "\n",
    "# Convert boolean column 'bruises' to integer (0s and 1s)\n",
    "X['bruises'] = X['bruises'].astype(int)\n",
    "\n",
    "# One-hot encode categorical columns\n",
    "X = pd.get_dummies(X)\n",
    "\n",
    "# Split the data into training and testing sets\n",
    "X_train, X_test, y_train, y_test = train_test_split(\n",
    "    X, y, test_size=0.2, random_state=42)\n",
    "\n",
    "# Decision Tree Classifier\n",
    "dtc = DecisionTreeClassifier()\n",
    "dtc.fit(X_train, y_train)\n",
    "dtc_pred_proba = dtc.predict_proba(X_test)[:, 1]\n",
    "dtc_auc = roc_auc_score(y_test, dtc_pred_proba)\n",
    "dtc_fpr, dtc_tpr, _ = roc_curve(y_test, dtc_pred_proba)\n",
    "dtc_pred = dtc.predict(X_test)\n",
    "dtc_confusion = confusion_matrix(y_test, dtc_pred)\n",
    "dtc_tn, dtc_fp, dtc_fn, dtc_tp = dtc_confusion.ravel()\n",
    "dtc_sensitivity = dtc_tp / (dtc_tp + dtc_fn)\n",
    "dtc_specificity = dtc_tn / (dtc_tn + dtc_fp)\n",
    "\n",
    "# Logistic Regression\n",
    "logreg = LogisticRegression()\n",
    "logreg.fit(X_train, y_train)\n",
    "logreg_pred_proba = logreg.predict_proba(X_test)[:, 1]\n",
    "logreg_auc = roc_auc_score(y_test, logreg_pred_proba)\n",
    "logreg_fpr, logreg_tpr, _ = roc_curve(y_test, logreg_pred_proba)\n",
    "logreg_pred = logreg.predict(X_test)\n",
    "logreg_confusion = confusion_matrix(y_test, logreg_pred)\n",
    "logreg_tn, logreg_fp, logreg_fn, logreg_tp = logreg_confusion.ravel()\n",
    "logreg_sensitivity = logreg_tp / (logreg_tp + logreg_fn)\n",
    "logreg_specificity = logreg_tn / (logreg_tn + logreg_fp)\n",
    "\n",
    "# Random Forest Classifier\n",
    "rfc = RandomForestClassifier()\n",
    "rfc.fit(X_train, y_train)\n",
    "rfc_pred_proba = rfc.predict_proba(X_test)[:, 1]\n",
    "rfc_auc = roc_auc_score(y_test, rfc_pred_proba)\n",
    "rfc_fpr, rfc_tpr, _ = roc_curve(y_test, rfc_pred_proba)\n",
    "rfc_pred = rfc.predict(X_test)\n",
    "rfc_confusion = confusion_matrix(y_test, rfc_pred)\n",
    "\n",
    "rfc_confusion = confusion_matrix(y_test, rfc_pred)\n",
    "rfc_tn, rfc_fp, rfc_fn, rfc_tp = rfc_confusion.ravel()\n",
    "rfc_sensitivity = rfc_tp / (rfc_tp + rfc_fn)\n",
    "rfc_specificity = rfc_tn / (rfc_tn + rfc_fp)\n",
    "\n",
    "print(f\"dtc_sensitivity: {dtc_sensitivity}\")\n",
    "print(f\"logreg_sensitivity: {logreg_sensitivity}\")\n",
    "print(f\"rfc_sensitivity: {rfc_sensitivity}\")\n",
    "\n",
    "\n",
    "print(f\"dtc_specificity: {dtc_specificity}\")\n",
    "print(f\"logreg_specificity: {logreg_specificity}\")\n",
    "print(f\"rfc_specificity: {rfc_specificity}\")\n",
    "\n",
    "# Cross-validation\n",
    "dtc_cv_scores = cross_val_score(dtc, X, y, cv=5, scoring='roc_auc')\n",
    "logreg_cv_scores = cross_val_score(logreg, X, y, cv=5, scoring='roc_auc')\n",
    "rfc_cv_scores = cross_val_score(rfc, X, y, cv=5, scoring='roc_auc')\n",
    "\n",
    "print(\"Decision Tree Classifier Cross-Validation Scores:\", dtc_cv_scores)\n",
    "print(\"Logistic Regression Cross-Validation Scores:\", logreg_cv_scores)\n",
    "print(\"Random Forest Classifier Cross-Validation Scores:\", rfc_cv_scores)\n"
   ]
  },
  {
   "cell_type": "markdown",
   "metadata": {},
   "source": [
    "### Setting threshold & getting sensitivity and specificity\n",
    "\n",
    "Sensitivity (True positive rate) - what percentage of poisenous mushrooms were correctly identified --> more important for us - no one should die \\\n",
    "Specificity (False Positive Rate)- what percentage of unpoisenous mushrooms were correctly identfied\n"
   ]
  },
  {
   "cell_type": "code",
   "execution_count": 40,
   "metadata": {},
   "outputs": [
    {
     "name": "stdout",
     "output_type": "stream",
     "text": [
      "Decision Tree Classifier Sensitivity (Modified): 1.0\n",
      "Decision Tree Classifier Specificity (Modified): 0.891271056661562\n",
      "Logistic Regression Sensitivity (Modified): 0.9675425038639877\n",
      "Logistic Regression Specificity (Modified): 0.6171516079632465\n",
      "Random Forest Classifier Sensitivity (Modified): 1.0\n",
      "Random Forest Classifier Specificity (Modified): 0.889739663093415\n"
     ]
    }
   ],
   "source": [
    "# Set the desired threshold\n",
    "threshold = 0.1\n",
    "\n",
    "# Modify the predictions based on the threshold\n",
    "dtc_pred_modified = (dtc_pred_proba >= threshold).astype(int)\n",
    "logreg_pred_modified = (logreg_pred_proba >= threshold).astype(int)\n",
    "rfc_pred_modified = (rfc_pred_proba >= threshold).astype(int)\n",
    "\n",
    "# Calculate the modified confusion matrices\n",
    "dtc_confusion_modified = confusion_matrix(y_test, dtc_pred_modified)\n",
    "logreg_confusion_modified = confusion_matrix(y_test, logreg_pred_modified)\n",
    "rfc_confusion_modified = confusion_matrix(y_test, rfc_pred_modified)\n",
    "\n",
    "# Calculate Sensitivity and Specificity based on the modified predictions\n",
    "dtc_tn_modified, dtc_fp_modified, dtc_fn_modified, dtc_tp_modified = dtc_confusion_modified.ravel()\n",
    "dtc_sensitivity_modified = dtc_tp_modified / \\\n",
    "    (dtc_tp_modified + dtc_fn_modified)\n",
    "dtc_specificity_modified = dtc_tn_modified / \\\n",
    "    (dtc_tn_modified + dtc_fp_modified)\n",
    "\n",
    "logreg_tn_modified, logreg_fp_modified, logreg_fn_modified, logreg_tp_modified = logreg_confusion_modified.ravel()\n",
    "logreg_sensitivity_modified = logreg_tp_modified / \\\n",
    "    (logreg_tp_modified + logreg_fn_modified)\n",
    "logreg_specificity_modified = logreg_tn_modified / \\\n",
    "    (logreg_tn_modified + logreg_fp_modified)\n",
    "\n",
    "rfc_tn_modified, rfc_fp_modified, rfc_fn_modified, rfc_tp_modified = rfc_confusion_modified.ravel()\n",
    "rfc_sensitivity_modified = rfc_tp_modified / \\\n",
    "    (rfc_tp_modified + rfc_fn_modified)\n",
    "rfc_specificity_modified = rfc_tn_modified / \\\n",
    "    (rfc_tn_modified + rfc_fp_modified)\n",
    "\n",
    "# Print the modified Sensitivity and Specificity\n",
    "print(\"Decision Tree Classifier Sensitivity (Modified):\", dtc_sensitivity_modified)\n",
    "print(\"Decision Tree Classifier Specificity (Modified):\", dtc_specificity_modified)\n",
    "print(\"Logistic Regression Sensitivity (Modified):\", logreg_sensitivity_modified)\n",
    "print(\"Logistic Regression Specificity (Modified):\", logreg_specificity_modified)\n",
    "print(\"Random Forest Classifier Sensitivity (Modified):\", rfc_sensitivity_modified)\n",
    "print(\"Random Forest Classifier Specificity (Modified):\", rfc_specificity_modified)\n"
   ]
  },
  {
   "cell_type": "markdown",
   "metadata": {},
   "source": [
    "### displaying confusion Matrix for random forest classifier"
   ]
  },
  {
   "cell_type": "markdown",
   "metadata": {},
   "source": [
    "Goal is to have no real poisenous mushrooms being classified as not poisenous, whereas we can have some predicted as poisenous which are actually harmless."
   ]
  },
  {
   "cell_type": "code",
   "execution_count": 41,
   "metadata": {},
   "outputs": [
    {
     "data": {
      "text/plain": [
       "array([[582,  71],\n",
       "       [  0, 647]])"
      ]
     },
     "execution_count": 41,
     "metadata": {},
     "output_type": "execute_result"
    }
   ],
   "source": [
    "confusion_matrix(y_test, dtc_pred_modified)\n"
   ]
  },
  {
   "cell_type": "code",
   "execution_count": 42,
   "metadata": {},
   "outputs": [
    {
     "data": {
      "text/plain": [
       "<sklearn.metrics._plot.confusion_matrix.ConfusionMatrixDisplay at 0x7fabb1d99ed0>"
      ]
     },
     "execution_count": 42,
     "metadata": {},
     "output_type": "execute_result"
    },
    {
     "data": {
      "image/png": "[encoded data removed]",
      "text/plain": [
       "<Figure size 640x480 with 2 Axes>"
      ]
     },
     "metadata": {},
     "output_type": "display_data"
    }
   ],
   "source": [
    "from sklearn.metrics import ConfusionMatrixDisplay\n",
    "ConfusionMatrixDisplay.from_predictions(\n",
    "    y_test, rfc_pred_modified, display_labels=['Not poisonous', 'Poisonous'])\n"
   ]
  },
  {
   "attachments": {},
   "cell_type": "markdown",
   "metadata": {},
   "source": [
    "# Submission"
   ]
  },
  {
   "cell_type": "code",
   "execution_count": 37,
   "metadata": {},
   "outputs": [
    {
     "name": "stdout",
     "output_type": "stream",
     "text": [
      "Random Forest Classifier Sensitivity (Modified): 1.0\n",
      "Random Forest Classifier Specificity (Modified): 0.885145482388974\n"
     ]
    }
   ],
   "source": [
    "# reading the test.csv\n",
    "url_test = \"/home/almuth/Documents/_data_science_bootcamp/Bootcamp/week7_supervised_ml/mushroom_competition/data/test.csv\"\n",
    "data_test = pd.read_csv(url_test)\n",
    "\n",
    "# Create a new DataFrame containing only the \"Id\" column from the test dataset\n",
    "id_column = data_test['Id']\n",
    "\n",
    "# Modify the predictions based on the threshold for the Random Forest Classifier\n",
    "rfc_pred_modified = (rfc_pred_proba >= threshold).astype(int)\n",
    "\n",
    "# Create a new DataFrame containing the modified predictions for the \"poisonous\" column\n",
    "poisonous_column = pd.DataFrame(\n",
    "    {'Random Forest Classifier': rfc_pred_modified})\n",
    "\n",
    "# Combine the \"Id\" column and the \"poisonous\" column into a single DataFrame\n",
    "result = pd.concat([id_column, poisonous_column], axis=1)\n",
    "\n",
    "# Save the resulting DataFrame to a new file\n",
    "result.to_csv(index=False)\n",
    "\n",
    "# Calculate the modified confusion matrix for the Random Forest Classifier\n",
    "rfc_confusion_modified = confusion_matrix(y_test, rfc_pred_modified)\n",
    "\n",
    "# Calculate Sensitivity and Specificity based on the modified predictions for the Random Forest Classifier\n",
    "rfc_tn_modified, rfc_fp_modified, rfc_fn_modified, rfc_tp_modified = rfc_confusion_modified.ravel()\n",
    "rfc_sensitivity_modified = rfc_tp_modified / \\\n",
    "    (rfc_tp_modified + rfc_fn_modified)\n",
    "rfc_specificity_modified = rfc_tn_modified / \\\n",
    "    (rfc_tn_modified + rfc_fp_modified)\n",
    "\n",
    "# Print the modified Sensitivity and Specificity for the Random Forest Classifier\n",
    "print(\"Random Forest Classifier Sensitivity (Modified):\", rfc_sensitivity_modified)\n",
    "print(\"Random Forest Classifier Specificity (Modified):\", rfc_specificity_modified)\n"
   ]
  }
 ],
 "metadata": {
  "kernelspec": {
   "display_name": "base",
   "language": "python",
   "name": "python3"
  },
  "language_info": {
   "codemirror_mode": {
    "name": "ipython",
    "version": 3
   },
   "file_extension": ".py",
   "mimetype": "text/x-python",
   "name": "python",
   "nbconvert_exporter": "python",
   "pygments_lexer": "ipython3",
   "version": "3.11.4"
  },
  "orig_nbformat": 4
 },
 "nbformat": 4,
 "nbformat_minor": 2
}
